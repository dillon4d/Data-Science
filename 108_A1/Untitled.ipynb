{
 "cells": [
  {
   "cell_type": "code",
   "execution_count": null,
   "metadata": {},
   "outputs": [],
   "source": [
    "\n",
    "i need name of people who got more than 65 and odd"
   ]
  },
  {
   "cell_type": "code",
   "execution_count": 8,
   "metadata": {},
   "outputs": [
    {
     "data": {
      "text/plain": [
       "['Amir', 'George', 'Sebi', 'Alma']"
      ]
     },
     "execution_count": 8,
     "metadata": {},
     "output_type": "execute_result"
    }
   ],
   "source": [
    "grades = {'Amir': 91,\n",
    "         'Quynh': 80,\n",
    "         'George': 67,\n",
    "         'Camilla': 92,\n",
    "         'Rachel': 98,\n",
    "         'Sebi': 83,\n",
    "         'Alma': 95,\n",
    "         'Paul': 63,\n",
    "         'Jessica': 65}\n",
    "\n",
    "student_out = []\n",
    "\n",
    "for k, v in grades.items():\n",
    "    if v > 65 and v %2 != 0:\n",
    "        student_out.append(k)\n",
    "    else:\n",
    "        continue\n",
    "        \n",
    "        \n",
    "        \n",
    "student_out"
   ]
  },
  {
   "cell_type": "code",
   "execution_count": null,
   "metadata": {},
   "outputs": [],
   "source": []
  }
 ],
 "metadata": {
  "kernelspec": {
   "display_name": "Python 3",
   "language": "python",
   "name": "python3"
  },
  "language_info": {
   "codemirror_mode": {
    "name": "ipython",
    "version": 3
   },
   "file_extension": ".py",
   "mimetype": "text/x-python",
   "name": "python",
   "nbconvert_exporter": "python",
   "pygments_lexer": "ipython3",
   "version": "3.6.7"
  }
 },
 "nbformat": 4,
 "nbformat_minor": 2
}
